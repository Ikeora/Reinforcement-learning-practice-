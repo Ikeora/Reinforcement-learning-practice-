{
 "cells": [
  {
   "cell_type": "markdown",
   "id": "2e47476a",
   "metadata": {},
   "source": [
    "# cart and pole problem\n",
    "\n",
    "###### No optimization and no instructions for when to end an episode"
   ]
  },
  {
   "cell_type": "code",
   "execution_count": 3,
   "id": "10ae06e2",
   "metadata": {},
   "outputs": [
    {
     "name": "stdout",
     "output_type": "stream",
     "text": [
      "Collecting pyglet\n",
      "  Downloading pyglet-1.5.21-py3-none-any.whl (1.1 MB)\n",
      "Installing collected packages: pyglet\n",
      "Successfully installed pyglet-1.5.21\n"
     ]
    }
   ],
   "source": [
    "!pip install pyglet"
   ]
  },
  {
   "cell_type": "code",
   "execution_count": 2,
   "id": "1f558d23",
   "metadata": {},
   "outputs": [
    {
     "name": "stderr",
     "output_type": "stream",
     "text": [
      "ERROR: Could not find a version that satisfies the requirement collections (from versions: none)\n",
      "ERROR: No matching distribution found for collections\n"
     ]
    },
    {
     "name": "stdout",
     "output_type": "stream",
     "text": [
      "Requirement already satisfied: torch in c:\\users\\personal\\anaconda3\\lib\\site-packages (1.3.1)\n",
      "Requirement already satisfied: numpy in c:\\users\\personal\\anaconda3\\lib\\site-packages (from torch) (1.19.2)\n"
     ]
    }
   ],
   "source": [
    "#!pip install collections\n",
    "!pip install torch"
   ]
  },
  {
   "cell_type": "code",
   "execution_count": 1,
   "id": "025e1b32",
   "metadata": {},
   "outputs": [
    {
     "name": "stderr",
     "output_type": "stream",
     "text": [
      "C:\\Users\\Personal\\Anaconda3\\lib\\site-packages\\gym\\envs\\classic_control\\cartpole.py:151: UserWarning: \u001b[33mWARN: You are calling 'step()' even though this environment has already returned done = True. You should always call 'reset()' once you receive 'done = True' -- any further steps are undefined behavior.\u001b[0m\n",
      "  \"You are calling 'step()' even though this \"\n"
     ]
    }
   ],
   "source": [
    "import gym\n",
    "env=gym.make('CartPole-v1')\n",
    "env.reset()\n",
    "for _ in range(1000):\n",
    "    env.render()\n",
    "    env.step(env.action_space.sample())\n",
    "    \n",
    "env.close()"
   ]
  },
  {
   "cell_type": "code",
   "execution_count": 2,
   "id": "6d6ba276",
   "metadata": {},
   "outputs": [],
   "source": [
    "%matplotlib inline\n",
    "import gym\n",
    "import math\n",
    "import random\n",
    "import numpy as np\n",
    "import matplotlib\n",
    "import matplotlib.pyplot as plt\n",
    "from collections import namedtuple\n",
    "from itertools import count\n",
    "from PIL import Image\n",
    "import torch\n",
    "import torch.nn as nn\n",
    "import torch.optim as optim\n",
    "import torch.nn.functional as F\n",
    "import torchvision.transforms as T"
   ]
  },
  {
   "cell_type": "markdown",
   "id": "562dead2",
   "metadata": {},
   "source": [
    "## Set up display"
   ]
  },
  {
   "cell_type": "code",
   "execution_count": 3,
   "id": "fbd5f59d",
   "metadata": {},
   "outputs": [],
   "source": [
    "is_ipython='inline' in matplotlib.get_backend()\n",
    "if is_ipython: from IPython import display"
   ]
  },
  {
   "cell_type": "markdown",
   "id": "07487d64",
   "metadata": {},
   "source": [
    "## Deep Q-Network class"
   ]
  },
  {
   "cell_type": "code",
   "execution_count": 4,
   "id": "5e29388e",
   "metadata": {},
   "outputs": [],
   "source": [
    "#The DQN class is a class that extends the nn.module.\n",
    "#The DQN will recieve screen shot like images of the cart n pole environment as inputs.\n",
    "class DQN(nn.Module):\n",
    "    #the DQN object will require the height and width of the image input that will be passed to the model\n",
    "    def __init__(self,img_height,img_width):\n",
    "        super().__init__()\n",
    "        \n",
    "        self.fc1= nn.Linear(in_features=img_height*img_width*3, out_features=24)\n",
    "        self.fc2= nn.Linear(in_features=24, out_features=32)\n",
    "        self.out= nn.Linear(in_features=32, out_features=2)\n",
    "    # this is he last thing to do for this DQN class\n",
    "    # defining a function called forward to implement a forward pass \n",
    "    def forward(self,t):\n",
    "        t= t.flatten(start_dim=1)\n",
    "        t= F.relu(self.fc1(t))\n",
    "        t=F.relu(self.fc2(t))\n",
    "        t=self.out(t)\n",
    "        return t\n",
    "        "
   ]
  },
  {
   "cell_type": "markdown",
   "id": "0792568d",
   "metadata": {},
   "source": [
    "## Experience Class"
   ]
  },
  {
   "cell_type": "code",
   "execution_count": 5,
   "id": "1fb67e55",
   "metadata": {},
   "outputs": [],
   "source": [
    "Experience = namedtuple(\n",
    "          'Experience',                   \n",
    "           ('state','action','next_state', 'reward')\n",
    ")"
   ]
  },
  {
   "cell_type": "markdown",
   "id": "f98aea71",
   "metadata": {},
   "source": [
    "## Replay Memory"
   ]
  },
  {
   "cell_type": "code",
   "execution_count": 6,
   "id": "96056900",
   "metadata": {},
   "outputs": [],
   "source": [
    "class ReplayMemory():\n",
    "    def __init__(self,capacity):\n",
    "        self.capacity=capacity\n",
    "        self.memory=[]\n",
    "        self.push_count=0\n",
    "        \n",
    "     # this is responsible for storing experiences   \n",
    "    def push(self, experience):\n",
    "        if len(self.memory) < self.capacity:\n",
    "            self.memory.append(experience)\n",
    "        else:\n",
    "            self.memory[self.push_count % self.capacity]=experience\n",
    "        self.push_count +=1\n",
    "        \n",
    "    # this function takes sample of batch_size from the replay memory    \n",
    "    def sample(self, batch_size):\n",
    "        return random.sample(self.memory, batch_size)\n",
    "    \n",
    "    # this funcion checks if the xperiences in replay memory are enough to be sampled\n",
    "    def can_provide_sample(self, batch_size):\n",
    "        return len(self.memory) >= batch_size"
   ]
  },
  {
   "cell_type": "markdown",
   "id": "45c465d5",
   "metadata": {},
   "source": [
    "## Epsilon Greedy Strategy"
   ]
  },
  {
   "cell_type": "code",
   "execution_count": 15,
   "id": "407f4e7c",
   "metadata": {},
   "outputs": [],
   "source": [
    "class EpsilonGreedyStrategy():\n",
    "    def __init__(self,start, end, decay):\n",
    "        self.start= start\n",
    "        self.end= end\n",
    "        self.decay= decay\n",
    "        \n",
    "    def get_exploration_rate(self, current_step):\n",
    "        return self.end + (self.start - self.end)* \\\n",
    "                math.exp(-1.* current_step * self.decay)\n",
    "    "
   ]
  },
  {
   "cell_type": "markdown",
   "id": "b7f007e3",
   "metadata": {},
   "source": [
    "## Reinforcement Learning Agent"
   ]
  },
  {
   "cell_type": "code",
   "execution_count": 111,
   "id": "ea9fcc28",
   "metadata": {},
   "outputs": [],
   "source": [
    "class Agent():\n",
    "    def __init__(self, strategy, num_actions, device):\n",
    "        self.current_step=0\n",
    "        self.strategy= strategy\n",
    "        self.num_actions= num_actions\n",
    "        self.device= device\n",
    "        \n",
    "    def select_action(self, state, policy_net):\n",
    "        rate= strategy.get_exploration_rate(self.current_step)\n",
    "        self.current_step += 1\n",
    "        \n",
    "        if rate > random.random():\n",
    "            action=random.randrange(self.num_actions) # explore\n",
    "            return torch.tensor([action]).to(device)\n",
    "            \n",
    "        else:\n",
    "            with torch.no_grad():\n",
    "                return policy_net(state).argmax(dim=1).to(device) #exploit\n",
    "            "
   ]
  },
  {
   "cell_type": "markdown",
   "id": "811fee39",
   "metadata": {},
   "source": [
    "## Environment Manager"
   ]
  },
  {
   "cell_type": "code",
   "execution_count": 9,
   "id": "36340747",
   "metadata": {},
   "outputs": [],
   "source": [
    "class CartPoleEnvManager():\n",
    "    def __init__(self,device):\n",
    "        self.device =device\n",
    "        self.env= gym.make('CartPole-v1').unwrapped\n",
    "        self.env.reset()\n",
    "        self.current_screen=None\n",
    "        self.done=False\n",
    "        \n",
    "    def reset(self):\n",
    "        self.env.reset()\n",
    "        self.current_screen=None\n",
    "        \n",
    "    def close(self):\n",
    "        self.env.close()\n",
    "        \n",
    "    def render(self, mode='human'):\n",
    "        return self.env.render(mode)\n",
    "    \n",
    "    def num_actions_available(self):\n",
    "        return self.env.action_space.n\n",
    "    \n",
    "    def take_action(self, action):\n",
    "        _, reward, self.done, _ = self.env.step(action.item())\n",
    "        return torch.tensor([reward], device= self.device)\n",
    "    \n",
    "    def just_starting(self):\n",
    "        return self.current_screen is None\n",
    "    \n",
    "    def get_state(self):\n",
    "        if self.just_starting() or self.done:\n",
    "            self.current_screen = self.get_processed_screen()\n",
    "            black_screen = torch.zeros_like(self.current_screen)\n",
    "            return black_screen\n",
    "        else:\n",
    "            s1=self.current_screen\n",
    "            s2=self.get_processed_screen()\n",
    "            self.current_screen=s2\n",
    "            return s2-s1\n",
    "        \n",
    "    def get_screen_height(self):\n",
    "        screen = self.get_processed_screen()\n",
    "        return screen.shape[2]\n",
    "    \n",
    "    def get_screen_width(self):\n",
    "        screen = self.get_processed_screen()\n",
    "        return screen.shape[3]\n",
    "    \n",
    "    def get_processed_screen(self):\n",
    "        screen= self.render('rgb_array').transpose((2,0,1))\n",
    "        screen = self.crop_screen(screen)\n",
    "        return self.transform_screen_data(screen)\n",
    "    \n",
    "    def crop_screen(self, screen):\n",
    "        screen_height = screen.shape[1]\n",
    "        \n",
    "        # strip off top and bottom\n",
    "        top= int(screen_height*0.4)\n",
    "        bottom= int(screen_height*0.8)\n",
    "        screen= screen[:,top:bottom,:]\n",
    "        return screen\n",
    "    \n",
    "    def transform_screen_data(self,screen):\n",
    "        #convert to float, rescale, convert to tensor\n",
    "        screen = np.ascontiguousarray(screen,dtype=np.float32)/255\n",
    "        screen = torch.from_numpy(screen)\n",
    "        \n",
    "        # use torchvision package to compose image transforms\n",
    "        resize = T.Compose([\n",
    "            T.ToPILImage(),\n",
    "            T.Resize((40,90)),\n",
    "            T.ToTensor()\n",
    "        ])\n",
    "        # the extra dimension added by the unsqueeze method represents a batch dimension \n",
    "        #since the inputs required in the DQN are in batches\n",
    "        return resize(screen).unsqueeze(0).to(self.device) #"
   ]
  },
  {
   "cell_type": "markdown",
   "id": "80afd13c",
   "metadata": {},
   "source": [
    "## Example of non-processed screen"
   ]
  },
  {
   "cell_type": "code",
   "execution_count": 39,
   "id": "f46628b2",
   "metadata": {},
   "outputs": [
    {
     "data": {
      "image/png": "[encoded data removed]",
      "text/plain": [
       "<Figure size 432x288 with 1 Axes>"
      ]
     },
     "metadata": {
      "needs_background": "light"
     },
     "output_type": "display_data"
    }
   ],
   "source": [
    "device = torch.device('cuda' if torch.cuda.is_available() else 'cpu')\n",
    "em= CartPoleEnvManager(device)\n",
    "em.reset()\n",
    "screen= em.render('rgb_array')\n",
    "\n",
    "plt.figure()\n",
    "plt.imshow(screen)\n",
    "plt.title('Non-processed screen example')\n",
    "plt.show()"
   ]
  },
  {
   "cell_type": "code",
   "execution_count": null,
   "id": "4267b21b",
   "metadata": {},
   "outputs": [],
   "source": []
  },
  {
   "cell_type": "code",
   "execution_count": null,
   "id": "682cae7a",
   "metadata": {},
   "outputs": [],
   "source": []
  },
  {
   "cell_type": "markdown",
   "id": "9fd41708",
   "metadata": {},
   "source": [
    "## Example of processed screen"
   ]
  },
  {
   "cell_type": "code",
   "execution_count": 40,
   "id": "f52a29b0",
   "metadata": {},
   "outputs": [
    {
     "data": {
      "image/png": "[encoded data removed]",
      "text/plain": [
       "<Figure size 432x288 with 1 Axes>"
      ]
     },
     "metadata": {
      "needs_background": "light"
     },
     "output_type": "display_data"
    }
   ],
   "source": [
    "screen = em.get_processed_screen()\n",
    "plt.figure()\n",
    "plt.imshow(screen.squeeze(0).permute(1,2,0), interpolation='none')\n",
    "plt.title('processed screen example')\n",
    "plt.show()"
   ]
  },
  {
   "cell_type": "markdown",
   "id": "fc2a0ac1",
   "metadata": {},
   "source": [
    "## Example of starting state"
   ]
  },
  {
   "cell_type": "code",
   "execution_count": 41,
   "id": "e3c0c44f",
   "metadata": {},
   "outputs": [
    {
     "data": {
      "image/png": "[encoded data removed]",
      "text/plain": [
       "<Figure size 432x288 with 1 Axes>"
      ]
     },
     "metadata": {
      "needs_background": "light"
     },
     "output_type": "display_data"
    }
   ],
   "source": [
    "screen = em.get_state()\n",
    "\n",
    "plt.figure()\n",
    "plt.imshow(screen.squeeze(0).permute(1,2,0), interpolation='none')\n",
    "plt.title('processed screen example')\n",
    "plt.show()"
   ]
  },
  {
   "cell_type": "markdown",
   "id": "495531ce",
   "metadata": {},
   "source": [
    "## Example of non-starting state"
   ]
  },
  {
   "cell_type": "code",
   "execution_count": 44,
   "id": "7f0757c1",
   "metadata": {},
   "outputs": [
    {
     "data": {
      "image/png": "[encoded data removed]",
      "text/plain": [
       "<Figure size 432x288 with 1 Axes>"
      ]
     },
     "metadata": {
      "needs_background": "light"
     },
     "output_type": "display_data"
    }
   ],
   "source": [
    "for i in range(5):\n",
    "    em.take_action(torch.tensor([1]))\n",
    "screen = em.get_state()\n",
    "\n",
    "plt.figure()\n",
    "plt.imshow(screen.squeeze(0).permute(1,2,0), interpolation='none')\n",
    "plt.title('processed screen example')\n",
    "plt.show()"
   ]
  },
  {
   "cell_type": "markdown",
   "id": "8d181aa4",
   "metadata": {},
   "source": [
    "## Example of end state"
   ]
  },
  {
   "cell_type": "code",
   "execution_count": 45,
   "id": "85c1d173",
   "metadata": {},
   "outputs": [
    {
     "data": {
      "image/png": "[encoded data removed]",
      "text/plain": [
       "<Figure size 432x288 with 1 Axes>"
      ]
     },
     "metadata": {
      "needs_background": "light"
     },
     "output_type": "display_data"
    }
   ],
   "source": [
    "em.done=True\n",
    "screen=em.get_state()\n",
    "\n",
    "plt.figure()\n",
    "plt.imshow(screen.squeeze(0).permute(1,2,0), interpolation='none')\n",
    "plt.title('processed screen example')\n",
    "plt.show()"
   ]
  },
  {
   "cell_type": "markdown",
   "id": "2277c160",
   "metadata": {},
   "source": [
    "## Utility functions\n",
    "\n",
    "### Plotting"
   ]
  },
  {
   "cell_type": "code",
   "execution_count": 105,
   "id": "0353f4a3",
   "metadata": {},
   "outputs": [],
   "source": [
    "def plot(values, moving_avg_period):\n",
    "    plt.figure(2)\n",
    "    plt.clf()\n",
    "    plt.title('Training...')\n",
    "    plt.xlabel('Episode')\n",
    "    plt.ylabel('Duration')\n",
    "    plt.plot(values)\n",
    "    \n",
    "    moving_avg=get_moving_average(moving_avg_period,values)\n",
    "    plt.plot(moving_avg)\n",
    "    plt.pause(0.001)\n",
    "    print('Episode', len(values), '\\n', \\\n",
    "          moving_avg_period, 'episode moving avg:', moving_avg[-1])\n",
    "    if is_ipython: display.clear_output(wait=True)\n",
    "        \n",
    "def get_moving_average(period,values):\n",
    "    values= torch.tensor(values,dtype=torch.float)\n",
    "    if len(values)>=period:\n",
    "        moving_avg= values.unfold(dimension=0, size= period, step=1)\\\n",
    "        .mean(dim=1).flatten(start_dim=0)\n",
    "        moving_avg= torch.cat((torch.zeros(period-1),moving_avg))\n",
    "        return moving_avg.numpy()\n",
    "    else:\n",
    "        moving_avg= torch.zeros(len(values))\n",
    "        return moving_avg.numpy()"
   ]
  },
  {
   "cell_type": "code",
   "execution_count": 106,
   "id": "9326d0f6",
   "metadata": {},
   "outputs": [],
   "source": [
    "r=torch.tensor([3,4,5,6,7])"
   ]
  },
  {
   "cell_type": "code",
   "execution_count": 107,
   "id": "970c5773",
   "metadata": {},
   "outputs": [
    {
     "data": {
      "image/png": "[encoded data removed]",
      "text/plain": [
       "<Figure size 432x288 with 1 Axes>"
      ]
     },
     "metadata": {
      "needs_background": "light"
     },
     "output_type": "display_data"
    },
    {
     "name": "stdout",
     "output_type": "stream",
     "text": [
      "Episode 300 \n",
      " 50 episode moving avg: 0.5362368\n"
     ]
    }
   ],
   "source": [
    "plot(np.random.rand(300),50)"
   ]
  },
  {
   "cell_type": "markdown",
   "id": "6bd5e4b1",
   "metadata": {},
   "source": [
    "### Tensor Processing"
   ]
  },
  {
   "cell_type": "code",
   "execution_count": 65,
   "id": "d6c3ed01",
   "metadata": {},
   "outputs": [],
   "source": [
    "def extract_tensors(experiences):\n",
    "    \n",
    "    batch= Experience(*zip(*experiences))\n",
    "    \n",
    "    t1= torch.cat(batch.state)\n",
    "    t2= torch.cat(batch.action)\n",
    "    t3= torch.cat(batch.reward)\n",
    "    t4= torch.cat(batch.next_state)\n",
    "    \n",
    "    return (t1,t2,t3,t4)\n"
   ]
  },
  {
   "cell_type": "markdown",
   "id": "202b8e20",
   "metadata": {},
   "source": [
    "## Q-value class"
   ]
  },
  {
   "cell_type": "code",
   "execution_count": 94,
   "id": "cc4ae26f",
   "metadata": {},
   "outputs": [],
   "source": [
    "class QValues():\n",
    "    device = torch.device('cuda' if torch.cuda.is_available() else 'cpu')\n",
    "    \n",
    "    @staticmethod\n",
    "    def get_current(policy_net, states, actions):\n",
    "        return policy_net(states).gather(dim=1, index= actions.unsqueeze(-1))\n",
    "    \n",
    "    @staticmethod\n",
    "    def get_next(target_net, next_states):\n",
    "        final_state_locations= next_states.flatten(start_dim=1)\\\n",
    "             .max(dim=1)[0].eq(0).type(torch.bool)\n",
    "        non_final_state_locations= (final_state_locations == False)\n",
    "        non_final_states = next_states[non_final_state_locations]\n",
    "        batch_size = next_states.shape[0]\n",
    "        values = torch.zeros(batch_size).to(QValues.device)\n",
    "        values[non_final_state_locations]= target_net(non_final_states).max(dim=1)[0].detach()\n",
    "        return values\n",
    "    "
   ]
  },
  {
   "cell_type": "markdown",
   "id": "00c56dea",
   "metadata": {},
   "source": [
    "# Main Program"
   ]
  },
  {
   "cell_type": "code",
   "execution_count": 112,
   "id": "cd56b73b",
   "metadata": {},
   "outputs": [
    {
     "data": {
      "image/png": "[encoded data removed]",
      "text/plain": [
       "<Figure size 432x288 with 1 Axes>"
      ]
     },
     "metadata": {
      "needs_background": "light"
     },
     "output_type": "display_data"
    },
    {
     "name": "stdout",
     "output_type": "stream",
     "text": [
      "Episode 1000 \n",
      " 100 episode moving avg: 142.01\n"
     ]
    }
   ],
   "source": [
    "batch_size =256\n",
    "gamma =0.999\n",
    "eps_start= 1\n",
    "eps_end =0.01\n",
    "eps_decay=0.001\n",
    "target_update=10\n",
    "memory_size=100000\n",
    "lr=0.001\n",
    "num_episodes=1000\n",
    "\n",
    "device=torch.device('cuda' if torch.cuda.is_available() else 'cpu')\n",
    "em=CartPoleEnvManager(device)\n",
    "strategy= EpsilonGreedyStrategy(eps_start, eps_end, eps_decay)\n",
    "agent= Agent(strategy,em.num_actions_available(),device)\n",
    "memory= ReplayMemory(memory_size)\n",
    "\n",
    "policy_net= DQN(em.get_screen_height(),em.get_screen_width()).to(device)\n",
    "target_net= DQN(em.get_screen_height(),em.get_screen_width()).to(device)\n",
    "target_net.load_state_dict(policy_net.state_dict())\n",
    "target_net.eval\n",
    "optimizer = optim.Adam(params=policy_net.parameters(), lr=lr)\n",
    "\n",
    "episode_durations=[]\n",
    "for episode in range(num_episodes):\n",
    "    em.reset()\n",
    "    state=em.get_state()\n",
    "    \n",
    "    for timestep in count():\n",
    "        action = agent.select_action(state, policy_net)\n",
    "        reward= em.take_action(action)\n",
    "        next_state= em.get_state()\n",
    "        memory.push(Experience(state, action, next_state, reward))\n",
    "        state= next_state\n",
    "        \n",
    "        if memory.can_provide_sample(batch_size):\n",
    "            experiences= memory.sample(batch_size)\n",
    "            states, actions, rewards, next_states = extract_tensors(experiences)\n",
    "            \n",
    "            current_q_values = QValues.get_current(policy_net, states, actions)\n",
    "            next_q_values = QValues.get_next(target_net, next_states)\n",
    "            target_q_values= (next_q_values*gamma)+ rewards\n",
    "            \n",
    "            loss= F.mse_loss(current_q_values,target_q_values.unsqueeze(1))\n",
    "            optimizer.zero_grad()\n",
    "            loss.backward()\n",
    "            optimizer.step()\n",
    "            \n",
    "        if em.done:\n",
    "            episode_durations.append(timestep)\n",
    "            plot(episode_durations,100)\n",
    "            break\n",
    "            \n",
    "    if episode % target_update == 0:\n",
    "        target_net.load_state_dict(policy_net.state_dict())\n",
    "        \n",
    "em.close()\n",
    "\n",
    "\n"
   ]
  },
  {
   "cell_type": "code",
   "execution_count": 27,
   "id": "bf7b6d54",
   "metadata": {},
   "outputs": [],
   "source": [
    "x=Experience(2,3,4,5)\n",
    "y=Experience(6,7,8,9)"
   ]
  },
  {
   "cell_type": "code",
   "execution_count": 60,
   "id": "46253011",
   "metadata": {},
   "outputs": [],
   "source": [
    "t=Experience(*zip(*[x,y]))"
   ]
  },
  {
   "cell_type": "code",
   "execution_count": 100,
   "id": "904a5198",
   "metadata": {},
   "outputs": [],
   "source": [
    "t = torch.tensor([[1,2,3,4]])"
   ]
  },
  {
   "cell_type": "code",
   "execution_count": null,
   "id": "f06b6bef",
   "metadata": {},
   "outputs": [],
   "source": []
  },
  {
   "cell_type": "code",
   "execution_count": null,
   "id": "28b74964",
   "metadata": {},
   "outputs": [],
   "source": []
  },
  {
   "cell_type": "code",
   "execution_count": null,
   "id": "abf0c761",
   "metadata": {},
   "outputs": [],
   "source": []
  }
 ],
 "metadata": {
  "kernelspec": {
   "display_name": "Python 3 (ipykernel)",
   "language": "python",
   "name": "python3"
  },
  "language_info": {
   "codemirror_mode": {
    "name": "ipython",
    "version": 3
   },
   "file_extension": ".py",
   "mimetype": "text/x-python",
   "name": "python",
   "nbconvert_exporter": "python",
   "pygments_lexer": "ipython3",
   "version": "3.7.1"
  }
 },
 "nbformat": 4,
 "nbformat_minor": 5
}
