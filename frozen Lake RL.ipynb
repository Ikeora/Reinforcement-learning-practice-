{
 "cells": [
  {
   "cell_type": "code",
   "execution_count": 3,
   "id": "d1f84af8",
   "metadata": {},
   "outputs": [],
   "source": [
    "import gym\n",
    "import numpy as np\n",
    "import random\n",
    "import time\n",
    "from IPython.display import clear_output"
   ]
  },
  {
   "cell_type": "code",
   "execution_count": 5,
   "id": "5b981f9b",
   "metadata": {},
   "outputs": [],
   "source": [
    "env=gym.make(\"FrozenLake-v1\")"
   ]
  },
  {
   "cell_type": "code",
   "execution_count": 11,
   "id": "3fda0dda",
   "metadata": {},
   "outputs": [
    {
     "name": "stdout",
     "output_type": "stream",
     "text": [
      "[[0. 0. 0. 0.]\n",
      " [0. 0. 0. 0.]\n",
      " [0. 0. 0. 0.]\n",
      " [0. 0. 0. 0.]\n",
      " [0. 0. 0. 0.]\n",
      " [0. 0. 0. 0.]\n",
      " [0. 0. 0. 0.]\n",
      " [0. 0. 0. 0.]\n",
      " [0. 0. 0. 0.]\n",
      " [0. 0. 0. 0.]\n",
      " [0. 0. 0. 0.]\n",
      " [0. 0. 0. 0.]\n",
      " [0. 0. 0. 0.]\n",
      " [0. 0. 0. 0.]\n",
      " [0. 0. 0. 0.]\n",
      " [0. 0. 0. 0.]]\n"
     ]
    }
   ],
   "source": [
    "action_space_size=env.action_space.n\n",
    "state_space_size=env.observation_space.n\n",
    "\n",
    "q_table=np.zeros((state_space_size,action_space_size))\n",
    "print(q_table)"
   ]
  },
  {
   "cell_type": "code",
   "execution_count": 87,
   "id": "356f2d2d",
   "metadata": {},
   "outputs": [],
   "source": [
    "num_episodes=15000\n",
    "max_steps_per_episode=100\n",
    "\n",
    "learning_rate=0.1\n",
    "discount_rate=0.99\n",
    "\n",
    "exploration_rate=1\n",
    "max_exploration_rate=1\n",
    "min_exploration_rate=0.01\n",
    "exploration_decay_rate=0.005"
   ]
  },
  {
   "cell_type": "code",
   "execution_count": 88,
   "id": "a3ffd01c",
   "metadata": {},
   "outputs": [
    {
     "name": "stdout",
     "output_type": "stream",
     "text": [
      "****************Average rewards per thousand episodes*************\n",
      "\n",
      "1000 :  0.36200000000000027\n",
      "2000 :  0.6920000000000005\n",
      "3000 :  0.6850000000000005\n",
      "4000 :  0.6690000000000005\n",
      "5000 :  0.6980000000000005\n",
      "6000 :  0.6970000000000005\n",
      "7000 :  0.6480000000000005\n",
      "8000 :  0.6920000000000005\n",
      "9000 :  0.6980000000000005\n",
      "10000 :  0.7140000000000005\n",
      "11000 :  0.6680000000000005\n",
      "12000 :  0.6860000000000005\n",
      "13000 :  0.7080000000000005\n",
      "14000 :  0.7010000000000005\n",
      "15000 :  0.7170000000000005\n",
      "\n",
      "\n",
      "*********************Q-table***************\n",
      "[[0.59809976 0.52255748 0.51222413 0.50452939]\n",
      " [0.39284233 0.32847743 0.35720982 0.52722402]\n",
      " [0.43093844 0.42203301 0.38461649 0.47059275]\n",
      " [0.30451356 0.32832759 0.33506687 0.4441204 ]\n",
      " [0.61089717 0.38602583 0.51736283 0.42294829]\n",
      " [0.         0.         0.         0.        ]\n",
      " [0.36834506 0.08669318 0.2259025  0.1606676 ]\n",
      " [0.         0.         0.         0.        ]\n",
      " [0.35370616 0.40180104 0.39627047 0.64521709]\n",
      " [0.52034062 0.69192903 0.42302066 0.46760757]\n",
      " [0.68470354 0.44876821 0.32718183 0.33517145]\n",
      " [0.         0.         0.         0.        ]\n",
      " [0.         0.         0.         0.        ]\n",
      " [0.54705833 0.50886478 0.79963137 0.46018465]\n",
      " [0.7293454  0.90354735 0.75927988 0.7450398 ]\n",
      " [0.         0.         0.         0.        ]]\n"
     ]
    }
   ],
   "source": [
    "rewards_all_episodes=[]\n",
    "\n",
    "#Q-learning algorithm\n",
    "for episode in range(num_episodes):\n",
    "    state=env.reset()\n",
    "    done=False\n",
    "    rewards_current_episode=0\n",
    "    \n",
    "    for step in range(max_steps_per_episode):\n",
    "        exploration_rate_threshold=random.uniform(0,1)\n",
    "        if exploration_rate_threshold>exploration_rate:\n",
    "            action=np.argmax(q_table[state,:])\n",
    "        else:\n",
    "            action=env.action_space.sample()\n",
    "            \n",
    "        new_state, reward, done, info = env.step(action)\n",
    "        \n",
    "        # Update Q-table for Q(s,a)\n",
    "        q_table[state,action]=q_table[state,action] * (1-learning_rate)+ \\\n",
    "            learning_rate*(reward+discount_rate*np.max(q_table[new_state,:]))\n",
    "        \n",
    "        state=new_state\n",
    "        rewards_current_episode+= reward\n",
    "        \n",
    "        if done== True:\n",
    "            break\n",
    "     # Exploration rate decay\n",
    "    exploration_rate=min_exploration_rate+ \\\n",
    "    (max_exploration_rate-min_exploration_rate)* \\\n",
    "    np.exp(-exploration_decay_rate*episode)\n",
    "    \n",
    "    rewards_all_episodes.append(rewards_current_episode)\n",
    "\n",
    "#Calculate and print the average rewards per thousand episodes\n",
    "rewards_per_thousand_episodes =np.split(np.array(rewards_all_episodes),num_episodes/1000)\n",
    "count=1000\n",
    "print(\"****************Average rewards per thousand episodes*************\\n\")\n",
    "\n",
    "for r in rewards_per_thousand_episodes:\n",
    "    print(count, \": \",str(sum(r/1000)))\n",
    "    count+=1000\n",
    "    \n",
    "#print updated Q_table\n",
    "print(\"\\n\\n*********************Q-table***************\")\n",
    "print(q_table)\n",
    "    "
   ]
  },
  {
   "cell_type": "code",
   "execution_count": 93,
   "id": "26a4e9c5",
   "metadata": {},
   "outputs": [
    {
     "name": "stdout",
     "output_type": "stream",
     "text": [
      "  (Down)\n",
      "SFFF\n",
      "FHFH\n",
      "FFFH\n",
      "HFF\u001b[41mG\u001b[0m\n",
      "******you reached the goal!******\n"
     ]
    }
   ],
   "source": [
    "for episode in range(3):\n",
    "    state=env.reset()\n",
    "    done=False\n",
    "    print(\"******EPISODE\", episode+1, \"**********\\n\\n\\n\\n\")\n",
    "    time.sleep(1)\n",
    "    \n",
    "    for step in range(max_steps_per_episode):\n",
    "        clear_output(wait=True)\n",
    "        env.render()\n",
    "        time.sleep(0.3)\n",
    "        \n",
    "        action= np.argmax(q_table[state,:])\n",
    "        new_state, reward, done, info = env.step(action)\n",
    "        \n",
    "        if done:\n",
    "            clear_output(wait=True)\n",
    "            env.render()\n",
    "            if reward == 1:\n",
    "                print(\"******you reached the goal!******\")\n",
    "                time.sleep(3)\n",
    "            else:\n",
    "                print(\"******you fell through a hole!*****\")\n",
    "                time.sleep(3)\n",
    "            clear_output(wait=True)\n",
    "            break\n",
    "            \n",
    "        state=new_state\n",
    "        \n",
    "env.close()"
   ]
  },
  {
   "cell_type": "code",
   "execution_count": null,
   "id": "bd54a038",
   "metadata": {},
   "outputs": [],
   "source": []
  },
  {
   "cell_type": "code",
   "execution_count": null,
   "id": "c209ddb8",
   "metadata": {},
   "outputs": [],
   "source": [
    " "
   ]
  }
 ],
 "metadata": {
  "kernelspec": {
   "display_name": "Python 3 (ipykernel)",
   "language": "python",
   "name": "python3"
  },
  "language_info": {
   "codemirror_mode": {
    "name": "ipython",
    "version": 3
   },
   "file_extension": ".py",
   "mimetype": "text/x-python",
   "name": "python",
   "nbconvert_exporter": "python",
   "pygments_lexer": "ipython3",
   "version": "3.7.1"
  }
 },
 "nbformat": 4,
 "nbformat_minor": 5
}
